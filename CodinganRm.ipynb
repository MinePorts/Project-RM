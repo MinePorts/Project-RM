{
 "cells": [
  {
   "cell_type": "code",
   "execution_count": 7,
   "metadata": {},
   "outputs": [
    {
     "name": "stdout",
     "output_type": "stream",
     "text": [
      "Requirement already satisfied: requests in c:\\users\\user\\appdata\\local\\programs\\python\\python37\\lib\\site-packages (2.31.0)\n",
      "Requirement already satisfied: charset-normalizer<4,>=2 in c:\\users\\user\\appdata\\local\\programs\\python\\python37\\lib\\site-packages (from requests) (3.3.2)\n",
      "Requirement already satisfied: idna<4,>=2.5 in c:\\users\\user\\appdata\\local\\programs\\python\\python37\\lib\\site-packages (from requests) (3.7)\n",
      "Requirement already satisfied: urllib3<3,>=1.21.1 in c:\\users\\user\\appdata\\local\\programs\\python\\python37\\lib\\site-packages (from requests) (2.0.7)\n",
      "Requirement already satisfied: certifi>=2017.4.17 in c:\\users\\user\\appdata\\local\\programs\\python\\python37\\lib\\site-packages (from requests) (2024.6.2)\n",
      "Note: you may need to restart the kernel to use updated packages.\n",
      "Requirement already satisfied: scikit-learn in c:\\users\\user\\appdata\\local\\programs\\python\\python37\\lib\\site-packages (1.0.2)\n",
      "Requirement already satisfied: numpy>=1.14.6 in c:\\users\\user\\appdata\\local\\programs\\python\\python37\\lib\\site-packages (from scikit-learn) (1.21.6)\n",
      "Requirement already satisfied: scipy>=1.1.0 in c:\\users\\user\\appdata\\local\\programs\\python\\python37\\lib\\site-packages (from scikit-learn) (1.7.3)\n",
      "Requirement already satisfied: joblib>=0.11 in c:\\users\\user\\appdata\\local\\programs\\python\\python37\\lib\\site-packages (from scikit-learn) (1.3.2)\n",
      "Requirement already satisfied: threadpoolctl>=2.0.0 in c:\\users\\user\\appdata\\local\\programs\\python\\python37\\lib\\site-packages (from scikit-learn) (3.1.0)\n",
      "Note: you may need to restart the kernel to use updated packages.\n",
      "Collecting matplotlib\n",
      "  Downloading matplotlib-3.5.3-cp37-cp37m-win_amd64.whl.metadata (6.7 kB)\n",
      "Collecting cycler>=0.10 (from matplotlib)\n",
      "  Downloading cycler-0.11.0-py3-none-any.whl.metadata (785 bytes)\n",
      "Collecting fonttools>=4.22.0 (from matplotlib)\n",
      "  Downloading fonttools-4.38.0-py3-none-any.whl.metadata (138 kB)\n",
      "     ------------------------------------ 138.5/138.5 kB 585.7 kB/s eta 0:00:00\n",
      "Collecting kiwisolver>=1.0.1 (from matplotlib)\n",
      "  Downloading kiwisolver-1.4.5-cp37-cp37m-win_amd64.whl.metadata (6.5 kB)\n",
      "Requirement already satisfied: numpy>=1.17 in c:\\users\\user\\appdata\\local\\programs\\python\\python37\\lib\\site-packages (from matplotlib) (1.21.6)\n",
      "Requirement already satisfied: packaging>=20.0 in c:\\users\\user\\appdata\\roaming\\python\\python37\\site-packages (from matplotlib) (24.0)\n",
      "Collecting pillow>=6.2.0 (from matplotlib)\n",
      "  Downloading Pillow-9.5.0-cp37-cp37m-win_amd64.whl.metadata (9.7 kB)\n",
      "Collecting pyparsing>=2.2.1 (from matplotlib)\n",
      "  Downloading pyparsing-3.1.2-py3-none-any.whl.metadata (5.1 kB)\n",
      "Requirement already satisfied: python-dateutil>=2.7 in c:\\users\\user\\appdata\\roaming\\python\\python37\\site-packages (from matplotlib) (2.9.0.post0)\n",
      "Collecting typing-extensions (from kiwisolver>=1.0.1->matplotlib)\n",
      "  Downloading typing_extensions-4.7.1-py3-none-any.whl.metadata (3.1 kB)\n",
      "Requirement already satisfied: six>=1.5 in c:\\users\\user\\appdata\\roaming\\python\\python37\\site-packages (from python-dateutil>=2.7->matplotlib) (1.16.0)\n",
      "Downloading matplotlib-3.5.3-cp37-cp37m-win_amd64.whl (7.2 MB)\n",
      "   ---------------------------------------- 7.2/7.2 MB 617.9 kB/s eta 0:00:00\n",
      "Downloading cycler-0.11.0-py3-none-any.whl (6.4 kB)\n",
      "Downloading fonttools-4.38.0-py3-none-any.whl (965 kB)\n",
      "   -------------------------------------- 965.4/965.4 kB 745.6 kB/s eta 0:00:00\n",
      "Downloading kiwisolver-1.4.5-cp37-cp37m-win_amd64.whl (55 kB)\n",
      "   ---------------------------------------- 55.8/55.8 kB 484.6 kB/s eta 0:00:00\n",
      "Downloading Pillow-9.5.0-cp37-cp37m-win_amd64.whl (2.5 MB)\n",
      "   ---------------------------------------- 2.5/2.5 MB 731.7 kB/s eta 0:00:00\n",
      "Downloading pyparsing-3.1.2-py3-none-any.whl (103 kB)\n",
      "   -------------------------------------- 103.2/103.2 kB 744.0 kB/s eta 0:00:00\n",
      "Downloading typing_extensions-4.7.1-py3-none-any.whl (33 kB)\n",
      "Installing collected packages: typing-extensions, pyparsing, pillow, fonttools, cycler, kiwisolver, matplotlib\n",
      "Successfully installed cycler-0.11.0 fonttools-4.38.0 kiwisolver-1.4.5 matplotlib-3.5.3 pillow-9.5.0 pyparsing-3.1.2 typing-extensions-4.7.1\n",
      "Note: you may need to restart the kernel to use updated packages.\n"
     ]
    },
    {
     "name": "stderr",
     "output_type": "stream",
     "text": [
      "  WARNING: The scripts fonttools.exe, pyftmerge.exe, pyftsubset.exe and ttx.exe are installed in 'c:\\Users\\user\\AppData\\Local\\Programs\\Python\\Python37\\Scripts' which is not on PATH.\n",
      "  Consider adding this directory to PATH or, if you prefer to suppress this warning, use --no-warn-script-location.\n"
     ]
    }
   ],
   "source": [
    "%pip install requests\n",
    "%pip install scikit-learn\n",
    "%pip install matplotlib"
   ]
  },
  {
   "cell_type": "code",
   "execution_count": 14,
   "metadata": {},
   "outputs": [],
   "source": [
    "import requests\n",
    "import pandas as pd\n",
    "import time\n",
    "from sklearn.tree import DecisionTreeClassifier\n",
    "from sklearn.metrics import confusion_matrix, ConfusionMatrixDisplay, accuracy_score\n",
    "from matplotlib import pyplot as plt\n",
    "import logging"
   ]
  },
  {
   "cell_type": "code",
   "execution_count": 4,
   "metadata": {},
   "outputs": [
    {
     "name": "stdout",
     "output_type": "stream",
     "text": [
      "   latitude  longitude  temperature  humidity  wind_speed               city  \\\n",
      "0   5.35444   -4.00167       298.87        89        4.12  Les deux-Plateaux   \n",
      "1  24.45118   54.39696       310.17        56        5.66            Al Amān   \n",
      "2   9.05785    7.49508       301.24        58        1.71              Abuja   \n",
      "3   5.55602   -0.19690       302.38        70        7.72              Accra   \n",
      "4   9.02497   38.74689       294.64        56        1.76        Addis Ababa   \n",
      "\n",
      "  pollution_level  \n",
      "0             Low  \n",
      "1            High  \n",
      "2        Very Low  \n",
      "3             Low  \n",
      "4          Medium  \n"
     ]
    }
   ],
   "source": [
    "logging.basicConfig(filename='weather_data_log.txt', level=logging.INFO,\n",
    "                    format='%(asctime)s %(levelname)s %(message)s')\n",
    "\n",
    "\n",
    "api_key = '3b0ca1f1b9885f94ec13872bae2dacd7'\n",
    "\n",
    "\n",
    "file_path = 'cities_list.xlsx'  \n",
    "cities_df = pd.read_excel(file_path)\n",
    "\n",
    "\n",
    "def get_weather_data(lat, lon, api_key, retries=3, timeout=10):\n",
    "    weather_url = f'http://api.openweathermap.org/data/2.5/weather?lat={lat}&lon={lon}&appid={api_key}'\n",
    "    for i in range(retries):\n",
    "        try:\n",
    "            response = requests.get(weather_url, timeout=timeout)\n",
    "            if response.status_code == 200:\n",
    "                data = response.json()\n",
    "                weather = {\n",
    "                    'latitude': lat,\n",
    "                    'longitude': lon,\n",
    "                    'temperature': data['main']['temp'],\n",
    "                    'humidity': data['main']['humidity'],\n",
    "                    'wind_speed': data['wind']['speed'],\n",
    "                    'city': data['name']\n",
    "                }\n",
    "                return weather\n",
    "            else:\n",
    "                logging.error(f'Error fetching weather data: {response.status_code}')\n",
    "        except requests.exceptions.Timeout:\n",
    "            logging.warning(f'Timeout occurred for weather data. Retry {i + 1}/{retries}')\n",
    "            time.sleep(2)  \n",
    "        except requests.exceptions.RequestException as e:\n",
    "            logging.error(f'RequestException: {e}')\n",
    "            break\n",
    "    return None\n",
    "\n",
    "\n",
    "def get_air_pollution_level(lat, lon, api_key, retries=3, timeout=10):\n",
    "    pollution_url = f'http://api.openweathermap.org/data/2.5/air_pollution?lat={lat}&lon={lon}&appid={api_key}'\n",
    "    for i in range(retries):\n",
    "        try:\n",
    "            pollution_response = requests.get(pollution_url, timeout=timeout)\n",
    "            if pollution_response.status_code == 200:\n",
    "                pollution_data = pollution_response.json()\n",
    "                aqi = pollution_data['list'][0]['main']['aqi']\n",
    "                \n",
    "                \n",
    "                if aqi == 1:\n",
    "                    air_pollution_level = 'Very Low'\n",
    "                elif aqi == 2:\n",
    "                    air_pollution_level = 'Low'\n",
    "                elif aqi == 3:\n",
    "                    air_pollution_level = 'Medium'\n",
    "                else:\n",
    "                    air_pollution_level = 'High'\n",
    "                return air_pollution_level\n",
    "            else:\n",
    "                logging.error(f'Error fetching air pollution data: {pollution_response.status_code}')\n",
    "        except requests.exceptions.Timeout:\n",
    "            logging.warning(f'Timeout occurred for air pollution data. Retry {i + 1}/{retries}')\n",
    "            time.sleep(2)  \n",
    "        except requests.exceptions.RequestException as e:\n",
    "            logging.error(f'RequestException: {e}')\n",
    "            break\n",
    "    return None\n",
    "\n",
    "\n",
    "weather_data_list = []\n",
    "\n",
    "\n",
    "for index, row in cities_df.iterrows():\n",
    "    lat = row['lat']\n",
    "    lon = row['lon']\n",
    "    weather_data = get_weather_data(lat, lon, api_key)\n",
    "    if weather_data:\n",
    "        pollution_level = get_air_pollution_level(lat, lon, api_key)\n",
    "        if pollution_level:\n",
    "            weather_data['pollution_level'] = pollution_level\n",
    "            weather_data_list.append(weather_data)\n",
    "    time.sleep(1)\n",
    "\n",
    "\n",
    "weather_df = pd.DataFrame(weather_data_list)\n",
    "print(weather_df.head())\n",
    "weather_df.to_excel('weather_pollution_data.xlsx', index=False)\n"
   ]
  },
  {
   "cell_type": "code",
   "execution_count": 18,
   "metadata": {},
   "outputs": [
    {
     "name": "stdout",
     "output_type": "stream",
     "text": [
      "Predicted Air Pollution Level for Jerusalem: Low\n"
     ]
    },
    {
     "name": "stderr",
     "output_type": "stream",
     "text": [
      "c:\\Users\\user\\AppData\\Local\\Programs\\Python\\Python37\\lib\\site-packages\\sklearn\\base.py:451: UserWarning: X does not have valid feature names, but DecisionTreeClassifier was fitted with feature names\n",
      "  \"X does not have valid feature names, but\"\n"
     ]
    }
   ],
   "source": [
    "\n",
    "api_key = '3b0ca1f1b9885f94ec13872bae2dacd7'\n",
    "\n",
    "\n",
    "def get_weather_data(lat, lon, api_key):\n",
    "    weather_url = f'http://api.openweathermap.org/data/2.5/weather?lat={lat}&lon={lon}&appid={api_key}'\n",
    "    response = requests.get(weather_url)\n",
    "    if response.status_code == 200:\n",
    "        data = response.json()\n",
    "        weather = {\n",
    "            'latitude': lat,\n",
    "            'longitude': lon,\n",
    "            'temperature': data['main']['temp'],\n",
    "            'humidity': data['main']['humidity'],\n",
    "            'wind_speed': data['wind']['speed'],\n",
    "            'city': data['name']\n",
    "        }\n",
    "        return weather\n",
    "    else:\n",
    "        print('Error fetching weather data:', response.status_code)\n",
    "        return None\n",
    "\n",
    "\n",
    "weather_data_path = 'weather_pollution_data.xlsx'\n",
    "weather_df = pd.read_excel(weather_data_path)\n",
    "\n",
    "\n",
    "X = weather_df[['temperature', 'humidity', 'wind_speed']]  \n",
    "y = weather_df['pollution_level']  \n",
    "\n",
    "\n",
    "classifier = DecisionTreeClassifier(random_state=42)\n",
    "classifier.fit(X, y)\n",
    "\n",
    "\n",
    "city_to_predict = 'Jerusalem'\n",
    "lat, lon = 31.76904, 35.21633  \n",
    "weather_data_to_predict = get_weather_data(lat, lon, api_key)\n",
    "if weather_data_to_predict:\n",
    "    predicted_pollution_level = classifier.predict([[\n",
    "        weather_data_to_predict['temperature'],\n",
    "        weather_data_to_predict['humidity'],\n",
    "        weather_data_to_predict['wind_speed']\n",
    "    ]])[0]\n",
    "    print(\"Predicted Air Pollution Level for\", city_to_predict + \":\", predicted_pollution_level)\n",
    "else:\n",
    "    print(f'Could not fetch weather data for {city_to_predict}')"
   ]
  },
  {
   "cell_type": "code",
   "execution_count": 15,
   "metadata": {},
   "outputs": [
    {
     "name": "stdout",
     "output_type": "stream",
     "text": [
      "Accuracy: 100.00%\n"
     ]
    },
    {
     "data": {
      "image/png": "[encoded data removed]",
      "text/plain": [
       "<Figure size 640x480 with 2 Axes>"
      ]
     },
     "metadata": {},
     "output_type": "display_data"
    }
   ],
   "source": [
    "y_pred = classifier.predict(X)\n",
    "\n",
    "\n",
    "cm = confusion_matrix(y, y_pred, labels=classifier.classes_)\n",
    "disp = ConfusionMatrixDisplay(confusion_matrix=cm, display_labels=classifier.classes_)\n",
    "disp.plot(cmap=plt.cm.Blues)\n",
    "plt.title('Confusion Matrix')\n",
    "\n",
    "\n",
    "accuracy = accuracy_score(y, y_pred)\n",
    "print(f'Accuracy: {accuracy * 100:.2f}%')"
   ]
  }
 ],
 "metadata": {
  "kernelspec": {
   "display_name": "Python 3",
   "language": "python",
   "name": "python3"
  },
  "language_info": {
   "codemirror_mode": {
    "name": "ipython",
    "version": 3
   },
   "file_extension": ".py",
   "mimetype": "text/x-python",
   "name": "python",
   "nbconvert_exporter": "python",
   "pygments_lexer": "ipython3",
   "version": "3.7.6"
  }
 },
 "nbformat": 4,
 "nbformat_minor": 2
}
